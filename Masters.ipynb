{
 "cells": [
  {
   "cell_type": "code",
   "execution_count": null,
   "id": "f8379421-ff90-4628-9d64-d811d6ac9489",
   "metadata": {},
   "outputs": [],
   "source": []
  }
 ],
 "metadata": {
  "kernelspec": {
   "display_name": "",
   "name": ""
  },
  "language_info": {
   "name": ""
  }
 },
 "nbformat": 4,
 "nbformat_minor": 5
}
